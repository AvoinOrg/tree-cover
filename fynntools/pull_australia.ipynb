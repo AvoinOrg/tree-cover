{
 "cells": [
  {
   "cell_type": "code",
   "execution_count": 179,
   "metadata": {
    "scrolled": false
   },
   "outputs": [],
   "source": [
    "import ee\n",
    "import pandas as pd\n",
    "import pickle\n",
    "import time\n",
    "\n",
    "# Initialize the library.\n",
    "ee.Initialize()"
   ]
  },
  {
   "cell_type": "markdown",
   "metadata": {},
   "source": [
    "### Lead data & create functions\n",
    "\n",
    "Adapt link to local data of Bastin paper.  \n",
    "\n",
    "get_pix() reduces an ee.image object to the band values (currently just takes all the information rather than specified band values).  \n",
    "get_img() selects images from an imagecollection and reduces them to a median image."
   ]
  },
  {
   "cell_type": "code",
   "execution_count": null,
   "metadata": {
    "scrolled": false
   },
   "outputs": [],
   "source": [
    "df = pd.read_csv(\"../data/bastin_db_cleaned.csv\", sep=\",\")\n",
    "\n",
    "def get_pix(df, img_list, bands):\n",
    "    ''' Takes a dataframe with the coordinates and a list of images,\n",
    "        returns a list of dictionnaries with the respective features.'''\n",
    "    l1 = df[\"longitude\"]\n",
    "    l2 = df[\"latitude\"]\n",
    "    l1.index = range(len(l1))\n",
    "    l2.index = range(len(l2))\n",
    "    \n",
    "    feat_list = []\n",
    "    i = 0\n",
    "    for i in range(0,len(img_list)):\n",
    "        if i % 10 == 0:\n",
    "            print(\"No. in progress: \"+str(i))\n",
    "        p = ee.Geometry.Point(l1[i],l2[i])\n",
    "        img = img_list[i].reduceRegion(ee.Reducer.first(),p,30).getInfo()\n",
    "\n",
    "        feat_list.append(img)    \n",
    "    return feat_list\n",
    "\n",
    "def get_img(df, date = ['2015-01-01', '2015-12-31']):\n",
    "    ''' Takes a dataframe with two coordinates columns and returns a list of images\n",
    "        composed of the median of a filtered image collection of the LANDSET8 dataset.\n",
    "        Filters: Timeframe (date), Image Quality (>=7), Cloud Cover (<= 0.25)'''\n",
    "    l1 = df[\"longitude\"]\n",
    "    l2 = df[\"latitude\"]\n",
    "    d = date\n",
    "    img_list = []\n",
    "\n",
    "    for i in range(len(df)):\n",
    "\n",
    "        p = ee.Geometry.Point(l1[i],l2[i])\n",
    "        dataset = ee.ImageCollection('LANDSAT/LC08/C01/T1_SR').filterDate(d[0], d[1]).filterBounds(p)\n",
    "        dataset = dataset.filterMetadata('IMAGE_QUALITY_TIRS', 'not_less_than', 7)\n",
    "        dataset = dataset.filterMetadata('CLOUD_COVER', 'not_greater_than', .25)\n",
    "\n",
    "        img = dataset.median()\n",
    "\n",
    "        img_list.append(img)\n",
    "    \n",
    "    return img_list"
   ]
  },
  {
   "cell_type": "code",
   "execution_count": 181,
   "metadata": {},
   "outputs": [],
   "source": [
    "d = df.loc[df[\"dryland_assessment_region\"] == 'Australia']"
   ]
  },
  {
   "cell_type": "code",
   "execution_count": 182,
   "metadata": {},
   "outputs": [
    {
     "name": "stdout",
     "output_type": "stream",
     "text": [
      "CPU times: user 5.52 s, sys: 63.2 ms, total: 5.58 s\n",
      "Wall time: 5.6 s\n"
     ]
    }
   ],
   "source": [
    "# Create image list.\n",
    "%time _ = get_img(df = d, date = ['2015-01-01', '2015-12-31'])"
   ]
  },
  {
   "cell_type": "code",
   "execution_count": 183,
   "metadata": {
    "scrolled": true
   },
   "outputs": [
    {
     "name": "stdout",
     "output_type": "stream",
     "text": [
      "No. in progress: 0\n",
      "CPU times: user 150 ms, sys: 123 µs, total: 151 ms\n",
      "Wall time: 5.16 s\n"
     ]
    }
   ],
   "source": [
    "# Example pull of features.\n",
    "%time feats = get_pix(df = d.iloc[0:5,], img_list = _[0:5], bands = [])"
   ]
  },
  {
   "cell_type": "code",
   "execution_count": 184,
   "metadata": {
    "scrolled": true
   },
   "outputs": [
    {
     "data": {
      "text/plain": [
       "15104"
      ]
     },
     "execution_count": 184,
     "metadata": {},
     "output_type": "execute_result"
    }
   ],
   "source": [
    "feats\n",
    "len(d)"
   ]
  },
  {
   "cell_type": "markdown",
   "metadata": {},
   "source": [
    "### Loop over index range of dataframe\n",
    "Fynn takes 0 to 5000.\n",
    "Luca takes 5000 to 10000.\n",
    "Dario takes 10000 to 15000.\n",
    "Final 104 will be added afterwards.\n",
    "Same ending-starting value might serve as comparision."
   ]
  },
  {
   "cell_type": "code",
   "execution_count": null,
   "metadata": {
    "scrolled": true
   },
   "outputs": [],
   "source": [
    "images = get_img(df = d, date = ['2015-01-01', '2015-12-31'])\n",
    "features = []\n",
    "for j in range(0,6):\n",
    "    ix_l, ix_u = j*1000, (j+1)*1000\n",
    "    print('Range: '+str(ix_l)+' to '+str(ix_u)+'.')\n",
    "    feats = get_pix(df = d.iloc[ix_l:ix_u,], img_list = images[ix_l:ix_u], bands = [])\n",
    "    features.extend(feats)\n",
    "    time.sleep(60) # Required, otherwise G Earth Engine blocks the getInfo at some point"
   ]
  },
  {
   "cell_type": "markdown",
   "metadata": {},
   "source": [
    "### Storage"
   ]
  },
  {
   "cell_type": "code",
   "execution_count": null,
   "metadata": {},
   "outputs": [],
   "source": [
    "with open(\"/home/dario/_dsp/data/australia_2015_lower_upper.pkl\", \"wb\") as f:\n",
    "    pickle.dump(features, f, pickle.HIGHEST_PROTOCOL)"
   ]
  }
 ],
 "metadata": {
  "kernelspec": {
   "display_name": "Python 3 (Spyder)",
   "language": "python3",
   "name": "python3"
  },
  "language_info": {
   "codemirror_mode": {
    "name": "ipython",
    "version": 3
   },
   "file_extension": ".py",
   "mimetype": "text/x-python",
   "name": "python",
   "nbconvert_exporter": "python",
   "pygments_lexer": "ipython3",
   "version": "3.7.4"
  }
 },
 "nbformat": 4,
 "nbformat_minor": 2
}
